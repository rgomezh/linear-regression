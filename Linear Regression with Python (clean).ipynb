{
 "cells": [
  {
   "cell_type": "markdown",
   "metadata": {},
   "source": [
    "# Implementing a Linear Regression problem with Python"
   ]
  },
  {
   "cell_type": "markdown",
   "metadata": {},
   "source": [
    "Now, we are ready to implement our own linear regression example. \n",
    "\n",
    "In linear regression, our hypothesis function $h_\\theta$ is:\n",
    "\n",
    "$$h_\\theta(x) = \\theta_0 + \\theta_1x$$\n",
    "\n",
    "And, as we are doing regression, our cost function is: \n",
    "\n",
    "$$J(\\theta_0,\\theta_1) = \\frac{1}{m}\\sum_{i=1}^m(\\hat{y}_i-y_i)^2 = \\frac{1}{m}\\sum_{i=1}^m(h_\\theta(x_i)-y_i)^2 $$\n",
    "\n",
    "Nota that, the cost funtion is just the sum of all the square errors from our hypothesis ($\\hat{y}_i$) versus the data ($y_i$).\n",
    "\n",
    "The best parameters for our hypothesis will give us the **minimum cost function**."
   ]
  },
  {
   "cell_type": "markdown",
   "metadata": {},
   "source": [
    "## Finding a minimum for J"
   ]
  },
  {
   "cell_type": "markdown",
   "metadata": {},
   "source": [
    "Finding a minimum of a function is equivalent to finding the parameters that make the gradient of that function to vanish. In other words:\n",
    "\n",
    "$$\\nabla_{\\theta} J(\\theta) = 0$$\n",
    "\n",
    "We will implement two ways of solving this problem."
   ]
  },
  {
   "cell_type": "markdown",
   "metadata": {},
   "source": [
    "### A) Gradient descent (Numerical method)\n",
    "\n",
    "\n",
    "From a starting point ($\\theta$), we will try to move to a new point $\\theta '$, decreasing the cost funtion ($J(\\theta)$). We will do this many times, up to we find a minimum (or close enough to it).\n",
    "\n",
    "#### Partial differentials of the cost function (using chain rule)\n",
    "\n",
    "$$\\frac{\\partial J}{\\partial\\theta_0} = \\frac{2}{m}\\sum_{i=1}^m(h_\\theta(x_i)-y_i)$$\n",
    "\n",
    "$$\\frac{\\partial J}{\\partial\\theta_1} = \\frac{2}{m}\\sum_{i=1}^m(h_\\theta(x_i)-y_i) \\cdot x_i$$\n",
    "\n",
    "Finally, we need to update iteratively the values for $\\theta_0$ and $\\theta_1$. Using Gradient Descent algorithm  with learning rate ($\\alpha$) until convergence criterion ($\\epsilon$) is achieved:\n",
    "\n",
    "         while (convergence==False):\n",
    "$$\\theta_0' = \\theta_0 - \\alpha \\frac{\\partial J}{\\partial\\theta_0} $$\n",
    "$$\\theta_1' = \\theta_1 - \\alpha \\frac{\\partial J}{\\partial\\theta_1} $$\n",
    "$$J' = J(\\theta_0',\\theta_1')$$\n",
    "$$\\Delta J = abs(J'-J)$$\n",
    "$$ convergence = (\\Delta J < \\epsilon)$$"
   ]
  },
  {
   "cell_type": "markdown",
   "metadata": {
    "jupyter": {
     "source_hidden": true
    }
   },
   "source": [
    "### B) Normal equations (Algebra)\n",
    "\n",
    "In matrix notation, we can implement our hypothesis as:\n",
    "\n",
    "$$h_\\theta (x^{(i)})=(x^{(i)})^T \\theta$$\n",
    "\n",
    "Note that, in this case, if we want to consider our hypothesis such $h(\\theta) = \\theta_0 + \\theta_i x^{(i)}$ where $x$ is a vector, for consistency, we need to introduce an additional \"constant feature\" in our data. In other words, we need to map our input data as follows:\n",
    "\n",
    "$$x_i \\rightarrow [1,x_i]$$\n",
    "\n",
    "we can express gradient of J as follows:\n",
    "\n",
    "$$\\nabla_{\\theta} J(\\theta) = X^T X \\theta - X^T \\vec{y}$$\n",
    "\n",
    "To minimize J, we set its derivatives to zero, therefore obtaining the **normal equations**:\n",
    "\n",
    "$$ X^T X \\theta = X^T \\vec{y}$$\n",
    "\n",
    "We can solve this equation for theta.\n",
    "\n",
    "As a final remark, we can extend this method to non linear hypothesis by extending our input data $x$ to the features we need. For example, for a parabolic fit:\n",
    "\n",
    "$$x_i \\rightarrow [1,x_i,x_i^2]$$"
   ]
  },
  {
   "cell_type": "markdown",
   "metadata": {},
   "source": [
    "## Problem\n",
    "\n",
    "Giving the data provided below (x->y), find the best equation fit, using:\n",
    "\n",
    "* Gradient Descent\n",
    "* Normal Equations\n",
    "\n",
    "Using your own python implementation, using numpy and scipy tools (**not scipy!**)."
   ]
  },
  {
   "cell_type": "code",
   "execution_count": 28,
   "metadata": {},
   "outputs": [
    {
     "name": "stdout",
     "output_type": "stream",
     "text": [
      "0 1\n",
      "d0 ->\n",
      "-368.21287905686853\n",
      "d1 ->\n",
      "-38975.85389978482\n",
      "79200.90980656787 72760.82540215882\n",
      "--------\n",
      "18.410643952843426 1949.7926949892412\n",
      "d0 ->\n",
      "186613.36865360846\n",
      "d1 ->\n",
      "19250816.15738673\n",
      "18721740667.902885 17067574573.291124\n",
      "--------\n",
      "-9312.257788727578 -960591.0151743473\n",
      "d0 ->\n",
      "-92167143.95640965\n",
      "d1 ->\n",
      "-9508317921.611403\n",
      "4567255000462284.0 4163752835270910.0\n",
      "--------\n",
      "4599044.940031755 474455305.06539583\n",
      "d0 ->\n",
      "45522983407.24501\n",
      "d1 ->\n",
      "4696326043760.3\n",
      "1.114203072417515e+21 1.0157668265484407e+21\n",
      "--------\n",
      "-2271550125.4222193 -234341846882.94962\n",
      "d0 ->\n",
      "-22484604983894.945\n",
      "d1 ->\n",
      "-2319598323418007.5\n",
      "2.7181501502754746e+26 2.4780103561666225e+26\n",
      "--------\n",
      "1121958699069.3252 115745574324017.42\n",
      "d0 ->\n",
      "1.1105543256024816e+16\n",
      "d1 ->\n",
      "1.1456905529700835e+18\n",
      "6.631053550599084e+31 6.045221368294753e+31\n",
      "--------\n",
      "-554155204102171.5 -5.716878207418016e+16\n",
      "d0 ->\n",
      "-5.485223827580505e+18\n",
      "d1 ->\n",
      "-5.658767856111935e+20\n",
      "1.6176763151386806e+37 1.47475983305506e+37\n",
      "--------\n",
      "2.737070361749231e+17 2.8236670498485498e+19\n",
      "d0 ->\n",
      "2.709248862934663e+21\n",
      "d1 ->\n",
      "2.7949653216876804e+23\n",
      "3.9463965123976947e+42 3.597745115835339e+42\n",
      "--------\n",
      "-1.3518873611055823e+20 -1.3946589937939918e+22\n",
      "d0 ->\n",
      "-1.3381458317901314e+24\n",
      "d1 ->\n",
      "-1.380482703668308e+26\n",
      "9.627417603458917e+47 8.7768663265687e+47\n",
      "--------\n",
      "6.677210285339601e+22 6.8884669284036e+24\n",
      "d0 ->\n",
      "6.609338446663346e+26\n",
      "d1 ->\n",
      "6.818447729350094e+28\n",
      "2.3486532440471133e+53 2.1411573092100375e+53\n",
      "--------\n"
     ]
    },
    {
     "data": {
      "image/png": "[encoded data removed]",
      "text/plain": [
       "<Figure size 864x576 with 1 Axes>"
      ]
     },
     "metadata": {
      "needs_background": "light"
     },
     "output_type": "display_data"
    }
   ],
   "source": [
    "import scipy.io as scio\n",
    "import numpy as np\n",
    "import matplotlib.pyplot as plt\n",
    "%matplotlib inline\n",
    "\n",
    "\n",
    "theta_0 = 2\n",
    "theta_1 = 5\n",
    "\n",
    "X = (np.random.randn(100) + 1) * 50\n",
    "jitter = 50 * np.random.randn(100)\n",
    "y = theta_0 + theta_1 * X + jitter\n",
    "fig, ax = plt.subplots(figsize=(12,8))\n",
    "\n",
    "ax.scatter(X, y)\n",
    "ax.grid(True)\n",
    "\n",
    "def hipotesis (theta0,tetha1,X):\n",
    "    return theta0 + theta1 * X\n",
    "\n",
    "def Jota(theta0,theta1,X):\n",
    "    m=len(X)\n",
    "    prediccion = hipotesis(theta0,theta1,X)\n",
    "    return (1/m) * np.sum((prediccion - y)**2)\n",
    "\n",
    "def derivada0 (X,theta0,theta1):\n",
    "    m=len(X)\n",
    "    prediccion = hipotesis(theta0,theta1,X)\n",
    "    return (2/m) * np.sum(prediccion - y)\n",
    "\n",
    "def derivada1 (X,theta0,theta1):\n",
    "    m=len(X)\n",
    "    prediccion = hipotesis(theta0,theta1,X)\n",
    "    return (2/m) * np.sum((prediccion - y)*X)\n",
    "\n",
    "    \n",
    "theta0 = 0\n",
    "theta1 = 1\n",
    "epsilon = 0.01 \n",
    "alpha = 0.05\n",
    "for i in range(10):\n",
    "    print (theta0,theta1)\n",
    "    coste = Jota(theta0,theta1,X)\n",
    "    d0 = derivada0(X,theta0,theta1)\n",
    "    print (\"d0 ->\")\n",
    "    print (d0)\n",
    "    d1 = derivada1(X,theta0,theta1)\n",
    "    print (\"d1 ->\")\n",
    "    print (d1)\n",
    "    theta0_next = theta0 - (alpha * d0)\n",
    "    theta1_next = theta1 - (alpha * d1)\n",
    "    coste1 = Jota(theta0_next,theta1_next,X)\n",
    "    theta0=theta0_next\n",
    "    theta1=theta1_next\n",
    "    print (coste,coste1)\n",
    "    print (\"--------\")\n"
   ]
  },
  {
   "cell_type": "code",
   "execution_count": null,
   "metadata": {},
   "outputs": [],
   "source": [
    "\n"
   ]
  },
  {
   "cell_type": "code",
   "execution_count": null,
   "metadata": {},
   "outputs": [],
   "source": []
  }
 ],
 "metadata": {
  "kernelspec": {
   "display_name": "Python 3",
   "language": "python",
   "name": "python3"
  },
  "language_info": {
   "codemirror_mode": {
    "name": "ipython",
    "version": 3
   },
   "file_extension": ".py",
   "mimetype": "text/x-python",
   "name": "python",
   "nbconvert_exporter": "python",
   "pygments_lexer": "ipython3",
   "version": "3.8.5"
  }
 },
 "nbformat": 4,
 "nbformat_minor": 4
}
