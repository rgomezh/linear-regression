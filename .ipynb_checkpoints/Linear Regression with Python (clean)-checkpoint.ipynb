{
 "cells": [
  {
   "cell_type": "markdown",
   "metadata": {},
   "source": [
    "# Implementing a Linear Regression problem with Python"
   ]
  },
  {
   "cell_type": "markdown",
   "metadata": {},
   "source": [
    "Now, we are ready to implement our own linear regression example. \n",
    "\n",
    "In linear regression, our hypothesis function $h_\\theta$ is:\n",
    "\n",
    "$$h_\\theta(x) = \\theta_0 + \\theta_1x$$\n",
    "\n",
    "And, as we are doing regression, our cost function is: \n",
    "\n",
    "$$J(\\theta_0,\\theta_1) = \\frac{1}{m}\\sum_{i=1}^m(\\hat{y}_i-y_i)^2 = \\frac{1}{m}\\sum_{i=1}^m(h_\\theta(x_i)-y_i)^2 $$\n",
    "\n",
    "Nota that, the cost funtion is just the sum of all the square errors from our hypothesis ($\\hat{y}_i$) versus the data ($y_i$).\n",
    "\n",
    "The best parameters for our hypothesis will give us the **minimum cost function**."
   ]
  },
  {
   "cell_type": "markdown",
   "metadata": {},
   "source": [
    "## Finding a minimum for J"
   ]
  },
  {
   "cell_type": "markdown",
   "metadata": {},
   "source": [
    "Finding a minimum of a function is equivalent to finding the parameters that make the gradient of that function to vanish. In other words:\n",
    "\n",
    "$$\\nabla_{\\theta} J(\\theta) = 0$$\n",
    "\n",
    "We will implement two ways of solving this problem."
   ]
  },
  {
   "cell_type": "markdown",
   "metadata": {},
   "source": [
    "### A) Gradient descent (Numerical method)\n",
    "\n",
    "\n",
    "From a starting point ($\\theta$), we will try to move to a new point $\\theta '$, decreasing the cost funtion ($J(\\theta)$). We will do this many times, up to we find a minimum (or close enough to it).\n",
    "\n",
    "#### Partial differentials of the cost function (using chain rule)\n",
    "\n",
    "$$\\frac{\\partial J}{\\partial\\theta_0} = \\frac{2}{m}\\sum_{i=1}^m(h_\\theta(x_i)-y_i)$$\n",
    "\n",
    "$$\\frac{\\partial J}{\\partial\\theta_1} = \\frac{2}{m}\\sum_{i=1}^m(h_\\theta(x_i)-y_i) \\cdot x_i$$\n",
    "\n",
    "Finally, we need to update iteratively the values for $\\theta_0$ and $\\theta_1$. Using Gradient Descent algorithm  with learning rate ($\\alpha$) until convergence criterion ($\\epsilon$) is achieved:\n",
    "\n",
    "         while (convergence==False):\n",
    "$$\\theta_0' = \\theta_0 - \\alpha \\frac{\\partial J}{\\partial\\theta_0} $$\n",
    "$$\\theta_1' = \\theta_1 - \\alpha \\frac{\\partial J}{\\partial\\theta_1} $$\n",
    "$$J' = J(\\theta_0',\\theta_1')$$\n",
    "$$\\Delta J = abs(J'-J)$$\n",
    "$$ convergence = (\\Delta J < \\epsilon)$$"
   ]
  },
  {
   "cell_type": "markdown",
   "metadata": {
    "jupyter": {
     "source_hidden": true
    }
   },
   "source": [
    "### B) Normal equations (Algebra)\n",
    "\n",
    "In matrix notation, we can implement our hypothesis as:\n",
    "\n",
    "$$h_\\theta (x^{(i)})=(x^{(i)})^T \\theta$$\n",
    "\n",
    "Note that, in this case, if we want to consider our hypothesis such $h(\\theta) = \\theta_0 + \\theta_i x^{(i)}$ where $x$ is a vector, for consistency, we need to introduce an additional \"constant feature\" in our data. In other words, we need to map our input data as follows:\n",
    "\n",
    "$$x_i \\rightarrow [1,x_i]$$\n",
    "\n",
    "we can express gradient of J as follows:\n",
    "\n",
    "$$\\nabla_{\\theta} J(\\theta) = X^T X \\theta - X^T \\vec{y}$$\n",
    "\n",
    "To minimize J, we set its derivatives to zero, therefore obtaining the **normal equations**:\n",
    "\n",
    "$$ X^T X \\theta = X^T \\vec{y}$$\n",
    "\n",
    "We can solve this equation for theta.\n",
    "\n",
    "As a final remark, we can extend this method to non linear hypothesis by extending our input data $x$ to the features we need. For example, for a parabolic fit:\n",
    "\n",
    "$$x_i \\rightarrow [1,x_i,x_i^2]$$"
   ]
  },
  {
   "cell_type": "markdown",
   "metadata": {},
   "source": [
    "## Problem\n",
    "\n",
    "Giving the data provided below (x->y), find the best equation fit, using:\n",
    "\n",
    "* Gradient Descent\n",
    "* Normal Equations\n",
    "\n",
    "Using your own python implementation, using numpy and scipy tools (**not scipy!**)."
   ]
  },
  {
   "cell_type": "code",
   "execution_count": 32,
   "metadata": {},
   "outputs": [
    {
     "name": "stdout",
     "output_type": "stream",
     "text": [
      "0 1\n",
      "d0 ->\n",
      "-386.1022032548148\n",
      "d1 ->\n",
      "-37317.45259955881\n",
      "77898.3646064388 77896.8738722327\n",
      "--------\n",
      "0.0038610220325481486 1.373174525995588\n",
      "d0 ->\n",
      "-350.842986672254\n",
      "d1 ->\n",
      "-33871.582513734174\n",
      "64613.97470838804 64612.74381268416\n",
      "--------\n",
      "0.007369451899270689 1.7118903511329298\n",
      "d0 ->\n",
      "-318.8395760927835\n",
      "d1 ->\n",
      "-30743.901531390966\n",
      "53669.65644373917 53668.63986715222\n",
      "--------\n",
      "0.010557847660198525 2.0193293664468395\n",
      "d0 ->\n",
      "-289.7913327902904\n",
      "d1 ->\n",
      "-27905.028305281754\n",
      "44653.20154653361 44652.361764765934\n",
      "--------\n",
      "0.01345576098810143 2.298379649499657\n",
      "d0 ->\n",
      "-263.4253787970014\n",
      "d1 ->\n",
      "-25328.294540104136\n",
      "37225.013055569296 37224.31913320664\n",
      "--------\n",
      "0.016090014776071443 2.5516625949006984\n",
      "d0 ->\n",
      "-239.49403349552205\n",
      "d1 ->\n",
      "-22989.494471284095\n",
      "31105.314688850613 31104.741120665552\n",
      "--------\n",
      "0.018484955111026664 2.7815575396135395\n",
      "d0 ->\n",
      "-217.772486914079\n",
      "d1 ->\n",
      "-20866.657476703993\n",
      "26063.613312133497 26063.139068315417\n",
      "--------\n",
      "0.020662679980167454 2.9902241143805792\n",
      "d0 ->\n",
      "-198.05668786796335\n",
      "d1 ->\n",
      "-18939.841685295865\n",
      "21910.017614565106 21909.625353971656\n",
      "--------\n",
      "0.02264324685884709 3.1796225312335378\n",
      "d0 ->\n",
      "-180.16142710843582\n",
      "d1 ->\n",
      "-17190.946643665047\n",
      "18488.08601685211 18487.76143869974\n",
      "--------\n",
      "0.02444486112993145 3.3515319976701883\n",
      "d0 ->\n",
      "-163.9185974722504\n",
      "d1 ->\n",
      "-15603.543280939755\n",
      "15668.934434610308 15668.665744231266\n",
      "--------\n"
     ]
    },
    {
     "ename": "NameError",
     "evalue": "name 'tetha1' is not defined",
     "output_type": "error",
     "traceback": [
      "\u001b[0;31m---------------------------------------------------------------------------\u001b[0m",
      "\u001b[0;31mNameError\u001b[0m                                 Traceback (most recent call last)",
      "\u001b[0;32m<ipython-input-32-4e3e32d00edb>\u001b[0m in \u001b[0;36m<module>\u001b[0;34m\u001b[0m\n\u001b[1;32m     56\u001b[0m     \u001b[0mprint\u001b[0m \u001b[0;34m(\u001b[0m\u001b[0;34m\"--------\"\u001b[0m\u001b[0;34m)\u001b[0m\u001b[0;34m\u001b[0m\u001b[0;34m\u001b[0m\u001b[0m\n\u001b[1;32m     57\u001b[0m \u001b[0;34m\u001b[0m\u001b[0m\n\u001b[0;32m---> 58\u001b[0;31m \u001b[0max\u001b[0m\u001b[0;34m.\u001b[0m\u001b[0mscatter\u001b[0m\u001b[0;34m(\u001b[0m\u001b[0mX\u001b[0m\u001b[0;34m,\u001b[0m \u001b[0mhipotesis\u001b[0m \u001b[0;34m(\u001b[0m\u001b[0mtheta0\u001b[0m\u001b[0;34m,\u001b[0m\u001b[0mtetha1\u001b[0m\u001b[0;34m,\u001b[0m\u001b[0mX\u001b[0m\u001b[0;34m)\u001b[0m\u001b[0;34m)\u001b[0m\u001b[0;34m\u001b[0m\u001b[0;34m\u001b[0m\u001b[0m\n\u001b[0m\u001b[1;32m     59\u001b[0m \u001b[0max\u001b[0m\u001b[0;34m.\u001b[0m\u001b[0mgrid\u001b[0m\u001b[0;34m(\u001b[0m\u001b[0;32mTrue\u001b[0m\u001b[0;34m)\u001b[0m\u001b[0;34m\u001b[0m\u001b[0;34m\u001b[0m\u001b[0m\n",
      "\u001b[0;31mNameError\u001b[0m: name 'tetha1' is not defined"
     ]
    },
    {
     "data": {
      "image/png": "[encoded data removed]",
      "text/plain": [
       "<Figure size 864x576 with 1 Axes>"
      ]
     },
     "metadata": {
      "needs_background": "light"
     },
     "output_type": "display_data"
    }
   ],
   "source": [
    "import scipy.io as scio\n",
    "import numpy as np\n",
    "import matplotlib.pyplot as plt\n",
    "%matplotlib inline\n",
    "\n",
    "\n",
    "theta_0 = 2\n",
    "theta_1 = 5\n",
    "\n",
    "X = (np.random.randn(100) + 1) * 50\n",
    "jitter = 50 * np.random.randn(100)\n",
    "y = theta_0 + theta_1 * X + jitter\n",
    "fig, ax = plt.subplots(figsize=(12,8))\n",
    "\n",
    "ax.scatter(X, y)\n",
    "ax.grid(True)\n",
    "\n",
    "def hipotesis (theta0,theta1,X):\n",
    "    return theta0 + theta1 * X\n",
    "\n",
    "def Jota(theta0,theta1,X):\n",
    "    m=len(X)\n",
    "    prediccion = hipotesis(theta0,theta1,X)\n",
    "    return (1/m) * np.sum((prediccion - y)**2)\n",
    "\n",
    "def derivada0 (X,theta0,theta1):\n",
    "    m=len(X)\n",
    "    prediccion = hipotesis(theta0,theta1,X)\n",
    "    return (2/m) * np.sum(prediccion - y)\n",
    "\n",
    "def derivada1 (X,theta0,theta1):\n",
    "    m=len(X)\n",
    "    prediccion = hipotesis(theta0,theta1,X)\n",
    "    return (2/m) * np.sum((prediccion - y)*X)\n",
    "\n",
    "    \n",
    "theta0 = 0\n",
    "theta1 = 1\n",
    "epsilon = 0.01 \n",
    "alpha = 0.00001\n",
    "for i in range(10):\n",
    "    print (theta0,theta1)\n",
    "    coste = Jota(theta0,theta1,X)\n",
    "    d0 = derivada0(X,theta0,theta1)\n",
    "    print (\"d0 ->\")\n",
    "    print (d0)\n",
    "    d1 = derivada1(X,theta0,theta1)\n",
    "    print (\"d1 ->\")\n",
    "    print (d1)\n",
    "    theta0_next = theta0 - (alpha * d0)\n",
    "    theta1_next = theta1 - (alpha * d1)\n",
    "    coste1 = Jota(theta0_next,theta1_next,X)\n",
    "    theta0=theta0_next\n",
    "    theta1=theta1_next\n",
    "    print (coste,coste1)\n",
    "    print (\"--------\")\n",
    "\n",
    "ax.scatter(X, hipotesis (theta0,tetha1,X))\n",
    "ax.grid(True)    "
   ]
  },
  {
   "cell_type": "code",
   "execution_count": null,
   "metadata": {},
   "outputs": [],
   "source": [
    "\n"
   ]
  },
  {
   "cell_type": "code",
   "execution_count": null,
   "metadata": {},
   "outputs": [],
   "source": []
  }
 ],
 "metadata": {
  "kernelspec": {
   "display_name": "Python 3",
   "language": "python",
   "name": "python3"
  },
  "language_info": {
   "codemirror_mode": {
    "name": "ipython",
    "version": 3
   },
   "file_extension": ".py",
   "mimetype": "text/x-python",
   "name": "python",
   "nbconvert_exporter": "python",
   "pygments_lexer": "ipython3",
   "version": "3.8.5"
  }
 },
 "nbformat": 4,
 "nbformat_minor": 4
}
